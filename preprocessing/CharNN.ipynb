{
 "cells": [
  {
   "cell_type": "markdown",
   "metadata": {},
   "source": [
    "# CharNN"
   ]
  },
  {
   "cell_type": "markdown",
   "metadata": {},
   "source": [
    "## Convert pitches to characters and words"
   ]
  },
  {
   "cell_type": "code",
   "execution_count": 1,
   "metadata": {},
   "outputs": [],
   "source": [
    "import converters.convert as cvt\n",
    "import numpy as np\n",
    "stream1 = cvt.text_to_pitch_stream('corpus1.txt')\n",
    "stream2 = cvt.text_to_pitch_stream('corpus2.txt')\n",
    "stream3 = cvt.text_to_pitch_stream('corpus3.txt')\n",
    "stream = stream1+stream2+stream3"
   ]
  },
  {
   "cell_type": "code",
   "execution_count": 2,
   "metadata": {},
   "outputs": [],
   "source": [
    "import re\n",
    "def convertToText(stream):\n",
    "    \"\"\"Converts stream of instruments to char text\"\"\"\n",
    "    single_stream = [e for s in stream for e in s] # Lazy way of making single stream\n",
    "    single_stream = set(single_stream)\n",
    "    offset = 33 #To avoid unprintable characters\n",
    "    pitch_chr_dict = dict([(pitch, chr(offset+i)) for i,pitch in enumerate(single_stream)])\n",
    "    chr_pitch_dict = dict([(chr(offset+i), pitch) for i,pitch in enumerate(single_stream)])\n",
    "    corpus = ''.join([pitch_chr_dict[e] for s in stream for e in s])\n",
    "    corpus = re.sub(r'(!){2}', '', corpus) # Remove silence notes\n",
    "    return single_stream, pitch_chr_dict, chr_pitch_dict, corpus"
   ]
  },
  {
   "cell_type": "code",
   "execution_count": 3,
   "metadata": {},
   "outputs": [],
   "source": [
    "single_stream, pitch_chr_dict, chr_pitch_dict, corpus = convertToText(stream)"
   ]
  },
  {
   "cell_type": "code",
   "execution_count": 4,
   "metadata": {},
   "outputs": [],
   "source": [
    "with open('text.txt', 'w') as f:\n",
    "    f.write(corpus)"
   ]
  },
  {
   "cell_type": "code",
   "execution_count": 5,
   "metadata": {},
   "outputs": [],
   "source": [
    "# Assumes that out of vocab pitch does not appear in the conditioning set\n",
    "n_letters = len(single_stream)\n",
    "\n",
    "def letterToIndex(letter):\n",
    "    \"\"\"returns index of the letter in the dictionary\"\"\"\n",
    "    return ord(letter) - offset\n",
    "\n",
    "def letterToTensor(letter):\n",
    "    \"\"\"Converts the given letter to tensor\"\"\"\n",
    "    tensor = np.zeros(1, n_letters)\n",
    "    tensor[0][letterToIndex(letter)] = 1\n",
    "    return tensor\n",
    "\n",
    "def wordToTensor(word):\n",
    "    \"\"\"Converts a word to a list of tensors\"\"\"\n",
    "    tensor = np.zeros(len(word), 1, n_letters)\n",
    "    for wi, letter in enumerate(word):\n",
    "        tensor[wi][0][letterToIndex(letter)] = 1\n",
    "    return tensor\n",
    "\n",
    "def pitchToTensor(array):\n",
    "    \"\"\"Converts pitch array to one hot tensors\"\"\"\n",
    "    tensor = [letterToTensor(pitch_chr_dict[l]) for s in array for l in s]\n",
    "    tensor = np.stack(tensor)\n",
    "    tensor = np.reshape(tensor, (*array.shape, -1))\n",
    "    return tensor\n",
    "    "
   ]
  },
  {
   "cell_type": "code",
   "execution_count": 6,
   "metadata": {},
   "outputs": [],
   "source": [
    "def get_batches(sequence, batch_size, seq_length=4):\n",
    "    \"\"\"Generator that returns batches of size batch size x total length of sequence\n",
    "    \n",
    "    args:\n",
    "    ----\n",
    "    sequence: input text corpus\n",
    "    batch_size: number of sequences per batch\n",
    "    seq_length: number of characters per sequence. Default 4 for 4 instruments\n",
    "    \"\"\"\n",
    "    batch_size_total = batch_size*seq_length\n",
    "    n_batches = len(sequence)//batch_size_total\n",
    "    sequence = sequence[:n_batches*batch_size_total] # throw away remainder\n",
    "    sequence = sequence.reshape((batch_size, -1))\n",
    "    \n",
    "    for n in range(0, sequence.shape[1], seq_length):\n",
    "        # The features\n",
    "        x = sequence[:, n:n+seq_length]\n",
    "        # The targets, shifted by one\n",
    "        y = np.zeros_like(x)\n",
    "        try:\n",
    "            y[:, :-1], y[:, -1] = x[:, 1:], sequence[:, n+seq_length]\n",
    "        except IndexError:\n",
    "            y[:, :-1], y[:, -1] = x[:, 1:], sequence[:, 0]\n",
    "        yield x, y "
   ]
  },
  {
   "cell_type": "markdown",
   "metadata": {},
   "source": [
    "Testing"
   ]
  },
  {
   "cell_type": "code",
   "execution_count": 7,
   "metadata": {},
   "outputs": [],
   "source": [
    "encoded = np.array([chr_pitch_dict[c] for c in corpus])\n",
    "batches = get_batches(encoded, 8)\n",
    "x, y = next(batches)"
   ]
  },
  {
   "cell_type": "code",
   "execution_count": 8,
   "metadata": {},
   "outputs": [
    {
     "name": "stdout",
     "output_type": "stream",
     "text": [
      "[[67 67  0 55]\n",
      " [ 0 61  0 64]\n",
      " [64 52  0 64]\n",
      " [ 0 72 60  0]\n",
      " [ 0 56  0 68]\n",
      " [74  0 62 59]\n",
      " [79  0 48  0]\n",
      " [79  0 79  0]]\n",
      "[[67  0 55 67]\n",
      " [61  0 64  0]\n",
      " [52  0 64  0]\n",
      " [72 60  0 60]\n",
      " [56  0 68  0]\n",
      " [ 0 62 59 74]\n",
      " [ 0 48  0 78]\n",
      " [ 0 79  0 79]]\n"
     ]
    }
   ],
   "source": [
    "print(x)\n",
    "print(y)"
   ]
  },
  {
   "cell_type": "code",
   "execution_count": 9,
   "metadata": {
    "scrolled": true
   },
   "outputs": [
    {
     "name": "stderr",
     "output_type": "stream",
     "text": [
      "Using TensorFlow backend.\n"
     ]
    },
    {
     "name": "stdout",
     "output_type": "stream",
     "text": [
      "corpus length: 1235770\n",
      "total chars: 73\n",
      "nb sequences: 411890\n",
      "Vectorization...\n",
      "Build model...\n",
      "Epoch 1/10\n",
      "411890/411890 [==============================] - 628s 2ms/step - loss: 2.2391\n",
      "Epoch 2/10\n",
      "411890/411890 [==============================] - 609s 1ms/step - loss: 2.0507\n",
      "Epoch 3/10\n",
      "411890/411890 [==============================] - 516s 1ms/step - loss: 2.0170\n",
      "Epoch 4/10\n",
      "411890/411890 [==============================] - 1067s 3ms/step - loss: 1.9968\n",
      "Epoch 5/10\n",
      "411890/411890 [==============================] - 1362s 3ms/step - loss: 1.9863\n",
      "Epoch 6/10\n",
      "411890/411890 [==============================] - 1420s 3ms/step - loss: 1.9770\n",
      "Epoch 7/10\n",
      "411890/411890 [==============================] - 2904s 7ms/step - loss: 1.9727\n",
      "Epoch 8/10\n",
      "411890/411890 [==============================] - 1393s 3ms/step - loss: 1.9908\n",
      "Epoch 9/10\n",
      "411890/411890 [==============================] - 3477s 8ms/step - loss: 1.9877\n",
      "Epoch 10/10\n",
      "411890/411890 [==============================] - 1416s 3ms/step - loss: 1.9715\n"
     ]
    },
    {
     "data": {
      "text/plain": [
       "<keras.callbacks.callbacks.History at 0x1f320dc2cc8>"
      ]
     },
     "execution_count": 9,
     "metadata": {},
     "output_type": "execute_result"
    }
   ],
   "source": [
    "from __future__ import print_function\n",
    "from keras.callbacks import LambdaCallback\n",
    "from keras.models import Sequential\n",
    "from keras.layers import Dense\n",
    "from keras.layers import LSTM\n",
    "from keras.optimizers import RMSprop\n",
    "from keras.utils.data_utils import get_file\n",
    "import numpy as np\n",
    "import random\n",
    "import sys\n",
    "import io\n",
    "\n",
    "\n",
    "with io.open('text.txt', encoding='utf-8') as f:\n",
    "    text = f.read()\n",
    "print('corpus length:', len(text))\n",
    "\n",
    "chars = sorted(list(set(text)))\n",
    "print('total chars:', len(chars))\n",
    "char_indices = dict((c, i) for i, c in enumerate(chars))\n",
    "indices_char = dict((i, c) for i, c in enumerate(chars))\n",
    "\n",
    "# cut the text in semi-redundant sequences of maxlen characters\n",
    "maxlen = 100\n",
    "step = 3\n",
    "sentences = []\n",
    "next_chars = []\n",
    "for i in range(0, len(text) - maxlen, step):\n",
    "    sentences.append(text[i: i + maxlen])\n",
    "    next_chars.append(text[i + maxlen])\n",
    "print('nb sequences:', len(sentences))\n",
    "\n",
    "print('Vectorization...')\n",
    "x = np.zeros((len(sentences), maxlen, len(chars)), dtype=np.bool)\n",
    "y = np.zeros((len(sentences), len(chars)), dtype=np.bool)\n",
    "for i, sentence in enumerate(sentences):\n",
    "    for t, char in enumerate(sentence):\n",
    "        x[i, t, char_indices[char]] = 1\n",
    "    y[i, char_indices[next_chars[i]]] = 1\n",
    "\n",
    "\n",
    "# build the model: a single LSTM\n",
    "print('Build model...')\n",
    "model = Sequential()\n",
    "model.add(LSTM(64, input_shape=(maxlen, len(chars)), dropout=0.1))\n",
    "model.add(Dense(len(chars), activation='softmax'))\n",
    "\n",
    "optimizer = RMSprop(learning_rate=0.01)\n",
    "model.compile(loss='categorical_crossentropy', optimizer=optimizer)\n",
    "\n",
    "\n",
    "def sample(preds, temperature=1.0):\n",
    "    # helper function to sample an index from a probability array\n",
    "    preds = np.asarray(preds).astype('float64')\n",
    "    preds = np.log(preds) / temperature\n",
    "    exp_preds = np.exp(preds)\n",
    "    preds = exp_preds / np.sum(exp_preds)\n",
    "    probas = np.random.multinomial(1, preds, 1)\n",
    "    return np.argmax(probas)\n",
    "\n",
    "model.fit(x, y,\n",
    "          batch_size=64,\n",
    "          epochs=10)"
   ]
  },
  {
   "cell_type": "code",
   "execution_count": 10,
   "metadata": {},
   "outputs": [
    {
     "name": "stdout",
     "output_type": "stream",
     "text": [
      "writing predictions0.txt\n",
      "writing predictions1.txt\n",
      "writing predictions2.txt\n",
      "writing predictions3.txt\n"
     ]
    }
   ],
   "source": [
    "with open('F.txt') as f:\n",
    "    bach = f.read()\n",
    "_, _, _, condition = convertToText(bach)\n",
    "for index,diversity in enumerate([0.2, 0.5, 1.0, 1.2]):\n",
    "\n",
    "    predicted_text = []\n",
    "    for i in range(10000):\n",
    "                x_pred = np.zeros((1, maxlen, len(chars)))\n",
    "                for t, char in enumerate(condition[-maxlen:]):\n",
    "                    x_pred[0, t, char_indices[char]] = 1.\n",
    "\n",
    "                preds = model.predict(x_pred, verbose=0)[0]\n",
    "                next_index = sample(preds, diversity)\n",
    "                next_char = indices_char[next_index]\n",
    "\n",
    "                condition = condition[1:] + next_char\n",
    "                predicted_text.append(next_char)\n",
    "\n",
    "    predicted_text = ''.join(predicted_text) \n",
    "    with open('predictions'+str(index)+'.txt', 'w') as f:\n",
    "        print('writing predictions'+str(index)+'.txt')\n",
    "        f.write(predicted_text)"
   ]
  },
  {
   "cell_type": "markdown",
   "metadata": {},
   "source": [
    "## Convert text back to melody"
   ]
  },
  {
   "cell_type": "code",
   "execution_count": 11,
   "metadata": {},
   "outputs": [
    {
     "name": "stdout",
     "output_type": "stream",
     "text": [
      "reading predictions.txt\n",
      "reading predictions0.txt\n",
      "reading predictions1.txt\n",
      "reading predictions2.txt\n",
      "reading predictions3.txt\n"
     ]
    }
   ],
   "source": [
    "import glob\n",
    "for file in glob.glob('predictions*.txt'):\n",
    "    print('reading', file)\n",
    "    with open(file, 'r') as f:\n",
    "        notes = f.read()\n",
    "    \n",
    "    pitches = np.array([chr_pitch_dict[c] for c in notes])\n",
    "    pitches = pitches.reshape((-1, 4))\n",
    "    mid = cvt.pitchstream_to_midi(pitches)\n",
    "    mid.save(file+'.mid')\n"
   ]
  }
 ],
 "metadata": {
  "kernelspec": {
   "display_name": "Python 3",
   "language": "python",
   "name": "python3"
  },
  "language_info": {
   "codemirror_mode": {
    "name": "ipython",
    "version": 3
   },
   "file_extension": ".py",
   "mimetype": "text/x-python",
   "name": "python",
   "nbconvert_exporter": "python",
   "pygments_lexer": "ipython3",
   "version": "3.7.5"
  }
 },
 "nbformat": 4,
 "nbformat_minor": 2
}
