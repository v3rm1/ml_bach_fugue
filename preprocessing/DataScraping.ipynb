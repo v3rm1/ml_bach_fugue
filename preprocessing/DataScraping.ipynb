{
 "cells": [
  {
   "cell_type": "code",
   "execution_count": 0,
   "metadata": {
    "colab": {
     "base_uri": "https://localhost:8080/",
     "height": 561
    },
    "colab_type": "code",
    "id": "tzAOpnZLGM5e",
    "outputId": "f1d11aee-49c7-4e3d-eca0-e3f35f41948c"
   },
   "outputs": [
    {
     "name": "stdout",
     "output_type": "stream",
     "text": [
      "--2020-01-07 18:55:15--  https://github.com/v3rm1/ml_bach_fugue/archive/midi_to_txt.zip\n",
      "Resolving github.com (github.com)... 140.82.114.4\n",
      "Connecting to github.com (github.com)|140.82.114.4|:443... connected.\n",
      "HTTP request sent, awaiting response... 302 Found\n",
      "Location: https://codeload.github.com/v3rm1/ml_bach_fugue/zip/midi_to_txt [following]\n",
      "--2020-01-07 18:55:16--  https://codeload.github.com/v3rm1/ml_bach_fugue/zip/midi_to_txt\n",
      "Resolving codeload.github.com (codeload.github.com)... 192.30.253.120\n",
      "Connecting to codeload.github.com (codeload.github.com)|192.30.253.120|:443... connected.\n",
      "HTTP request sent, awaiting response... 200 OK\n",
      "Length: unspecified [application/zip]\n",
      "Saving to: ‘midi_to_txt.zip.1’\n",
      "\n",
      "midi_to_txt.zip.1       [ <=>                ]  16.35K  89.5KB/s    in 0.2s    \n",
      "\n",
      "2020-01-07 18:55:17 (89.5 KB/s) - ‘midi_to_txt.zip.1’ saved [16744]\n",
      "\n",
      "Archive:  midi_to_txt.zip\n",
      "2e335f8c730465a975d52cf4ba21a1bfb963c12d\n",
      "   creating: ml_bach_fugue-midi_to_txt/\n",
      "  inflating: ml_bach_fugue-midi_to_txt/.gitignore  \n",
      "  inflating: ml_bach_fugue-midi_to_txt/F.txt  \n",
      "  inflating: ml_bach_fugue-midi_to_txt/LICENSE  \n",
      "  inflating: ml_bach_fugue-midi_to_txt/README.md  \n",
      "  inflating: ml_bach_fugue-midi_to_txt/bigram_output.mid  \n",
      "  inflating: ml_bach_fugue-midi_to_txt/find_range.py  \n",
      "   creating: ml_bach_fugue-midi_to_txt/preprocessing/\n",
      "   creating: ml_bach_fugue-midi_to_txt/preprocessing/converters/\n",
      " extracting: ml_bach_fugue-midi_to_txt/preprocessing/converters/__init__.py  \n",
      "  inflating: ml_bach_fugue-midi_to_txt/preprocessing/converters/convert.py  \n",
      "  inflating: ml_bach_fugue-midi_to_txt/preprocessing/main.py  \n",
      "  inflating: ml_bach_fugue-midi_to_txt/simple_bigram.py  \n",
      "  inflating: ml_bach_fugue-midi_to_txt/text_to_midi.py  \n"
     ]
    }
   ],
   "source": [
    "!wget https://github.com/v3rm1/ml_bach_fugue/archive/midi_to_txt.zip\n",
    "!unzip midi_to_txt.zip"
   ]
  },
  {
   "cell_type": "code",
   "execution_count": 0,
   "metadata": {
    "colab": {
     "base_uri": "https://localhost:8080/",
     "height": 54
    },
    "colab_type": "code",
    "id": "_O2TVYQha-3K",
    "outputId": "42094b6c-9bc9-4573-883b-7f095f1dbcfc"
   },
   "outputs": [
    {
     "name": "stdout",
     "output_type": "stream",
     "text": [
      "mv: cannot move 'ml_bach_fugue-midi_to_txt/preprocessing/converters/' to '/content/converters': Directory not empty\n"
     ]
    }
   ],
   "source": [
    "!mv ml_bach_fugue-midi_to_txt/preprocessing/converters/ /content/\n",
    "!rm -rf ml_bach_fugue-midi_to_txt/"
   ]
  },
  {
   "cell_type": "code",
   "execution_count": 0,
   "metadata": {
    "colab": {
     "base_uri": "https://localhost:8080/",
     "height": 54
    },
    "colab_type": "code",
    "id": "6-mdLMd3W5iw",
    "outputId": "bd60fa97-3af3-45a2-a129-8262a55620cb"
   },
   "outputs": [
    {
     "name": "stdout",
     "output_type": "stream",
     "text": [
      "Drive already mounted at /content/gdrive; to attempt to forcibly remount, call drive.mount(\"/content/gdrive\", force_remount=True).\n"
     ]
    }
   ],
   "source": [
    "from google.colab import drive\n",
    "drive.mount('/content/gdrive')"
   ]
  },
  {
   "cell_type": "code",
   "execution_count": 0,
   "metadata": {
    "colab": {
     "base_uri": "https://localhost:8080/",
     "height": 153
    },
    "colab_type": "code",
    "id": "i4dWrNgCGiuR",
    "outputId": "bf9c5e41-e60a-4fe1-ef53-b1e8c1d35244"
   },
   "outputs": [
    {
     "name": "stdout",
     "output_type": "stream",
     "text": [
      "Downloading /content/gdrive/My Drive/raw_data/BachZIP.zip\n",
      "Downloading /content/gdrive/My Drive/raw_data/BeethovenZIP.zip\n",
      "Downloading /content/gdrive/My Drive/raw_data/BrahmsZIP.zip\n",
      "Downloading /content/gdrive/My Drive/raw_data/DEFFRZIP.zip\n",
      "Downloading /content/gdrive/My Drive/raw_data/DvorakZIP.zip\n",
      "Downloading /content/gdrive/My Drive/raw_data/HaydnZIP.zip\n",
      "Downloading /content/gdrive/My Drive/raw_data/MozartZIP.zip\n",
      "Downloading /content/gdrive/My Drive/raw_data/SchZIP.zip\n"
     ]
    }
   ],
   "source": [
    "from bs4 import BeautifulSoup\n",
    "import requests\n",
    "import os\n",
    "import glob\n",
    "import zipfile\n",
    "\n",
    "url = 'http://www.stringquartets.org/composers.htm'\n",
    "outpath = '/content/gdrive/My Drive/raw_data/'\n",
    "os.makedirs(outpath, exist_ok=True)\n",
    "r = requests.get(url)\n",
    "soup = BeautifulSoup(r.text)\n",
    "for link in soup.find_all('a', href=True):\n",
    "  zipurl = link['href']\n",
    "  if(zipurl.endswith('.zip')):\n",
    "    outfname = outpath + zipurl.split('/')[-1]\n",
    "    r = requests.get('http://www.stringquartets.org/' + zipurl, stream=True)\n",
    "    if( r.status_code == requests.codes.ok ) :\n",
    "        fsize = int(r.headers['content-length'])\n",
    "        print('Downloading {}'.format(outfname))\n",
    "        with open(outfname, 'wb') as fd:\n",
    "            for chunk in r.iter_content(chunk_size=1024): # chuck size can be larger\n",
    "                if chunk: # ignore keep-alive requests\n",
    "                    fd.write(chunk)\n",
    "            fd.close()\n",
    "\n",
    "for files in glob.iglob('/content/gdrive/My Drive/raw_data/*.zip'): # Extract files\n",
    "  f = zipfile.ZipFile(files)\n",
    "  f.extractall('/content/gdrive/My Drive/raw_data')\n",
    "  f.close()\n",
    "  os.remove(files)\n",
    "\n",
    "for files in glob.iglob('/content/gdrive/My Drive/raw_data/*.kpp'): # Remove .kpp files\n",
    "  os.remove(files)\n",
    "\n",
    "for files in glob.iglob('/content/gdrive/My Drive/raw_data/*.squ'): # Rename .squ files to midi\n",
    "  name = files.split('/')[-1].split('.')[0]\n",
    "  os.rename(files, '/content/gdrive/My Drive/raw_data/'+name+'.mid')"
   ]
  },
  {
   "cell_type": "code",
   "execution_count": 0,
   "metadata": {
    "colab": {
     "base_uri": "https://localhost:8080/",
     "height": 51
    },
    "colab_type": "code",
    "id": "LI6N_7FsncgD",
    "outputId": "a13cca14-a109-442b-c1c8-f908fdbb85f5"
   },
   "outputs": [
    {
     "name": "stdout",
     "output_type": "stream",
     "text": [
      "Requirement already satisfied: music21 in /usr/local/lib/python3.6/dist-packages (5.5.0)\n",
      "Requirement already satisfied: mido in /usr/local/lib/python3.6/dist-packages (1.2.6)\n"
     ]
    }
   ],
   "source": [
    "!pip install music21 mido"
   ]
  },
  {
   "cell_type": "code",
   "execution_count": 0,
   "metadata": {
    "colab": {},
    "colab_type": "code",
    "id": "hGSvA8pVnJOa"
   },
   "outputs": [],
   "source": [
    "\"\"\" Function taken from \n",
    "http://nickkellyresearch.com/python-script-transpose-midi-files-c-minor/\n",
    "\"\"\"\n",
    "\n",
    "def transpose_key(filename):\n",
    "    \"\"\" converting everything into the key of C major or A minor\n",
    "    \"\"\"\n",
    "    # major conversions\n",
    "    majors = dict([('A-', 4),('G#', 4),('A', 3),('A#', 2),('B-', 2),('B', 1),('C', 0),('C#', -1),('D-', -1),('D', -2),\n",
    "            ('D#', -3),('E-', -3),('E', -4),('F', -5),('F#', 6),('G-', 6),('G', 5)])\n",
    "    minors = dict([('G#', 1), ('A-', 1),('A', 0),('A#', -1),('B-', -1),('B', -2),('C', -3),('C#', -4),('D-', -4),\n",
    "            ('D', -5),('D#', 6),('E-', 6),('E', 5),('F', 4),('F#', 3),('G-', 3),('G', 2)])\n",
    "\n",
    "    score = music21.converter.parse(filename)\n",
    "    key = score.analyze('key')\n",
    "    #    print key.tonic.name, key.mode\n",
    "    if key.mode == \"major\":\n",
    "        halfSteps = majors[key.tonic.name]\n",
    "    elif key.mode == \"minor\":\n",
    "        halfSteps = minors[key.tonic.name]\n",
    "\n",
    "    newscore = score.transpose(halfSteps)\n",
    "    newscore.write('midi', '/tmp/temp.mid')"
   ]
  },
  {
   "cell_type": "code",
   "execution_count": 0,
   "metadata": {
    "colab": {
     "base_uri": "https://localhost:8080/",
     "height": 1000
    },
    "colab_type": "code",
    "id": "23zifGNuWO9R",
    "outputId": "1eb79141-dd83-4395-d42c-e293367d53ad"
   },
   "outputs": [
    {
     "name": "stderr",
     "output_type": "stream",
     "text": [
      "\n",
      "0it [00:00, ?it/s]\u001b[A"
     ]
    },
    {
     "name": "stdout",
     "output_type": "stream",
     "text": [
      "Total files found:  353\n"
     ]
    },
    {
     "name": "stderr",
     "output_type": "stream",
     "text": [
      "\n",
      "1it [00:28, 28.17s/it]\u001b[A\n",
      "2it [00:38, 22.94s/it]\u001b[A\n",
      "3it [01:02, 23.22s/it]\u001b[A\n",
      "4it [01:22, 22.09s/it]\u001b[A\n",
      "5it [01:40, 20.88s/it]\u001b[A\n",
      "6it [01:48, 16.95s/it]\u001b[A\n",
      "7it [02:02, 16.33s/it]\u001b[A\n",
      "8it [02:27, 18.77s/it]\u001b[A\n",
      "9it [03:03, 23.82s/it]\u001b[A"
     ]
    },
    {
     "name": "stdout",
     "output_type": "stream",
     "text": [
      "Error occured while reading file\n",
      " Deleting file\n",
      "Error occured while reading file\n",
      " Deleting file\n"
     ]
    },
    {
     "name": "stderr",
     "output_type": "stream",
     "text": [
      "\n",
      "12it [03:22, 18.63s/it]\u001b[A\n",
      "13it [03:37, 17.40s/it]\u001b[A\n",
      "14it [04:01, 19.64s/it]\u001b[A\n",
      "15it [04:08, 15.61s/it]\u001b[A\n",
      "16it [04:38, 19.93s/it]\u001b[A\n",
      "17it [04:59, 20.27s/it]\u001b[A\n",
      "18it [05:05, 15.97s/it]\u001b[A\n",
      "19it [05:29, 18.35s/it]\u001b[A\n",
      "20it [06:10, 25.14s/it]\u001b[A\n",
      "21it [06:19, 20.52s/it]\u001b[A\n",
      "22it [06:25, 15.97s/it]\u001b[A"
     ]
    },
    {
     "name": "stdout",
     "output_type": "stream",
     "text": [
      "Found tracks having more than 4 instruments!\n",
      " Removing instruments\n"
     ]
    },
    {
     "name": "stderr",
     "output_type": "stream",
     "text": [
      "\n",
      "23it [06:36, 14.70s/it]\u001b[A\n",
      "24it [06:37, 10.62s/it]\u001b[A\n",
      "25it [07:26, 22.01s/it]\u001b[A\n",
      "26it [08:16, 30.35s/it]\u001b[A"
     ]
    },
    {
     "name": "stdout",
     "output_type": "stream",
     "text": [
      "Found tracks having more than 4 instruments!\n",
      " Removing instruments\n"
     ]
    },
    {
     "name": "stderr",
     "output_type": "stream",
     "text": [
      "\n",
      "27it [08:50, 31.35s/it]\u001b[A\n",
      "28it [09:06, 26.96s/it]\u001b[A"
     ]
    },
    {
     "name": "stdout",
     "output_type": "stream",
     "text": [
      "Found tracks having more than 4 instruments!\n",
      " Removing instruments\n"
     ]
    },
    {
     "name": "stderr",
     "output_type": "stream",
     "text": [
      "\n",
      "29it [09:40, 29.01s/it]\u001b[A\n",
      "30it [10:10, 29.27s/it]\u001b[A\n",
      "31it [10:20, 23.56s/it]\u001b[A\n",
      "32it [10:40, 22.58s/it]\u001b[A\n",
      "33it [11:41, 33.93s/it]\u001b[A\n",
      "34it [12:18, 34.82s/it]\u001b[A\n",
      "35it [12:31, 28.31s/it]\u001b[A"
     ]
    },
    {
     "name": "stdout",
     "output_type": "stream",
     "text": [
      "Found tracks having more than 4 instruments!\n",
      " Removing instruments\n"
     ]
    },
    {
     "name": "stderr",
     "output_type": "stream",
     "text": [
      "\n",
      "36it [12:42, 23.14s/it]\u001b[A"
     ]
    },
    {
     "name": "stdout",
     "output_type": "stream",
     "text": [
      "Found tracks having more than 4 instruments!\n",
      " Removing instruments\n"
     ]
    },
    {
     "name": "stderr",
     "output_type": "stream",
     "text": [
      "\n",
      "37it [13:17, 26.78s/it]\u001b[A"
     ]
    },
    {
     "name": "stdout",
     "output_type": "stream",
     "text": [
      "Error occured while reading file\n",
      " Deleting file\n"
     ]
    },
    {
     "name": "stderr",
     "output_type": "stream",
     "text": [
      "\n",
      "39it [13:26, 20.00s/it]\u001b[A"
     ]
    },
    {
     "name": "stdout",
     "output_type": "stream",
     "text": [
      "Found tracks having more than 4 instruments!\n",
      " Removing instruments\n"
     ]
    },
    {
     "name": "stderr",
     "output_type": "stream",
     "text": [
      "\n",
      "40it [13:52, 21.83s/it]\u001b[A"
     ]
    },
    {
     "name": "stdout",
     "output_type": "stream",
     "text": [
      "Found tracks having more than 4 instruments!\n",
      " Removing instruments\n"
     ]
    },
    {
     "name": "stderr",
     "output_type": "stream",
     "text": [
      "\n",
      "41it [14:18, 23.19s/it]\u001b[A\n",
      "42it [14:30, 19.84s/it]\u001b[A\n",
      "43it [14:54, 21.08s/it]\u001b[A\n",
      "44it [15:06, 18.25s/it]\u001b[A\n",
      "45it [15:36, 21.81s/it]\u001b[A"
     ]
    },
    {
     "name": "stdout",
     "output_type": "stream",
     "text": [
      "Found tracks having more than 4 instruments!\n",
      " Removing instruments\n"
     ]
    },
    {
     "name": "stderr",
     "output_type": "stream",
     "text": [
      "\n",
      "46it [15:58, 21.94s/it]\u001b[A"
     ]
    },
    {
     "name": "stdout",
     "output_type": "stream",
     "text": [
      "Found tracks having more than 4 instruments!\n",
      " Removing instruments\n"
     ]
    },
    {
     "name": "stderr",
     "output_type": "stream",
     "text": [
      "\n",
      "47it [17:08, 36.42s/it]\u001b[A\n",
      "48it [17:22, 29.60s/it]\u001b[A\n",
      "49it [18:03, 32.90s/it]\u001b[A\n",
      "50it [18:09, 24.96s/it]\u001b[A\n",
      "51it [18:27, 22.92s/it]\u001b[A"
     ]
    },
    {
     "name": "stdout",
     "output_type": "stream",
     "text": [
      "Found tracks having more than 4 instruments!\n",
      " Removing instruments\n"
     ]
    },
    {
     "name": "stderr",
     "output_type": "stream",
     "text": [
      "\n",
      "52it [18:32, 17.59s/it]\u001b[A\n",
      "53it [18:35, 13.17s/it]\u001b[A\n",
      "54it [19:20, 22.82s/it]\u001b[A\n",
      "55it [19:42, 22.39s/it]\u001b[A\n",
      "56it [19:47, 17.34s/it]\u001b[A\n",
      "57it [19:48, 12.27s/it]\u001b[A"
     ]
    },
    {
     "name": "stdout",
     "output_type": "stream",
     "text": [
      "Found tracks having more than 4 instruments!\n",
      " Removing instruments\n"
     ]
    },
    {
     "name": "stderr",
     "output_type": "stream",
     "text": [
      "\n",
      "58it [20:20, 18.16s/it]\u001b[A"
     ]
    },
    {
     "name": "stdout",
     "output_type": "stream",
     "text": [
      "Found tracks having more than 4 instruments!\n",
      " Removing instruments\n"
     ]
    },
    {
     "name": "stderr",
     "output_type": "stream",
     "text": [
      "\n",
      "59it [20:48, 21.09s/it]\u001b[A\n",
      "60it [20:49, 15.07s/it]\u001b[A\n",
      "61it [20:52, 11.45s/it]\u001b[A"
     ]
    },
    {
     "name": "stdout",
     "output_type": "stream",
     "text": [
      "Found tracks having more than 4 instruments!\n",
      " Removing instruments\n"
     ]
    },
    {
     "name": "stderr",
     "output_type": "stream",
     "text": [
      "\n",
      "62it [21:12, 14.21s/it]\u001b[A\n",
      "63it [21:38, 17.70s/it]\u001b[A\n",
      "64it [21:53, 16.71s/it]\u001b[A\n",
      "65it [21:56, 12.60s/it]\u001b[A\n",
      "66it [22:18, 15.39s/it]\u001b[A"
     ]
    },
    {
     "name": "stdout",
     "output_type": "stream",
     "text": [
      "Found tracks having more than 4 instruments!\n",
      " Removing instruments\n"
     ]
    },
    {
     "name": "stderr",
     "output_type": "stream",
     "text": [
      "\n",
      "67it [24:39, 53.08s/it]\u001b[A"
     ]
    },
    {
     "name": "stdout",
     "output_type": "stream",
     "text": [
      "Found tracks having more than 4 instruments!\n",
      " Removing instruments\n"
     ]
    },
    {
     "name": "stderr",
     "output_type": "stream",
     "text": [
      "\n",
      "68it [24:56, 42.53s/it]\u001b[A\n",
      "69it [25:12, 34.47s/it]\u001b[A\n",
      "70it [25:15, 24.90s/it]\u001b[A\n",
      "71it [25:28, 21.36s/it]\u001b[A"
     ]
    },
    {
     "name": "stdout",
     "output_type": "stream",
     "text": [
      "Found tracks having more than 4 instruments!\n",
      " Removing instruments\n"
     ]
    },
    {
     "name": "stderr",
     "output_type": "stream",
     "text": [
      "\n",
      "72it [25:41, 19.04s/it]\u001b[A\n",
      "73it [25:49, 15.65s/it]\u001b[A"
     ]
    },
    {
     "name": "stdout",
     "output_type": "stream",
     "text": [
      "Found tracks having more than 4 instruments!\n",
      " Removing instruments\n"
     ]
    },
    {
     "name": "stderr",
     "output_type": "stream",
     "text": [
      "\n",
      "74it [26:09, 17.05s/it]\u001b[A"
     ]
    },
    {
     "name": "stdout",
     "output_type": "stream",
     "text": [
      "Found tracks having more than 4 instruments!\n",
      " Removing instruments\n",
      "Found tracks having more than 4 instruments!\n",
      " Removing instruments\n"
     ]
    },
    {
     "name": "stderr",
     "output_type": "stream",
     "text": [
      "\n",
      "75it [26:50, 24.22s/it]\u001b[A"
     ]
    },
    {
     "name": "stdout",
     "output_type": "stream",
     "text": [
      "Found tracks having more than 4 instruments!\n",
      " Removing instruments\n"
     ]
    },
    {
     "name": "stderr",
     "output_type": "stream",
     "text": [
      "\n",
      "76it [27:09, 22.65s/it]\u001b[A\n",
      "77it [27:23, 19.80s/it]\u001b[A"
     ]
    },
    {
     "name": "stdout",
     "output_type": "stream",
     "text": [
      "Found tracks having more than 4 instruments!\n",
      " Removing instruments\n"
     ]
    },
    {
     "name": "stderr",
     "output_type": "stream",
     "text": [
      "\n",
      "78it [27:34, 17.36s/it]\u001b[A"
     ]
    },
    {
     "name": "stdout",
     "output_type": "stream",
     "text": [
      "Found tracks having more than 4 instruments!\n",
      " Removing instruments\n",
      "Found tracks having more than 4 instruments!\n",
      " Removing instruments\n"
     ]
    },
    {
     "name": "stderr",
     "output_type": "stream",
     "text": [
      "\n",
      "79it [28:04, 21.15s/it]\u001b[A"
     ]
    },
    {
     "name": "stdout",
     "output_type": "stream",
     "text": [
      "Found tracks having more than 4 instruments!\n",
      " Removing instruments\n"
     ]
    },
    {
     "name": "stderr",
     "output_type": "stream",
     "text": [
      "\n",
      "80it [28:32, 23.03s/it]\u001b[A\n",
      "81it [28:38, 17.89s/it]\u001b[A"
     ]
    },
    {
     "name": "stdout",
     "output_type": "stream",
     "text": [
      "Found tracks having more than 4 instruments!\n",
      " Removing instruments\n"
     ]
    },
    {
     "name": "stderr",
     "output_type": "stream",
     "text": [
      "\n",
      "82it [28:52, 16.82s/it]\u001b[A\n",
      "83it [29:32, 23.95s/it]\u001b[A"
     ]
    },
    {
     "name": "stdout",
     "output_type": "stream",
     "text": [
      "Found tracks having more than 4 instruments!\n",
      " Removing instruments\n"
     ]
    },
    {
     "name": "stderr",
     "output_type": "stream",
     "text": [
      "\n",
      "84it [30:15, 29.61s/it]\u001b[A\n",
      "85it [30:37, 27.24s/it]\u001b[A"
     ]
    },
    {
     "name": "stdout",
     "output_type": "stream",
     "text": [
      "Found tracks having more than 4 instruments!\n",
      " Removing instruments\n"
     ]
    },
    {
     "name": "stderr",
     "output_type": "stream",
     "text": [
      "\n",
      "86it [30:41, 20.40s/it]\u001b[A"
     ]
    },
    {
     "name": "stdout",
     "output_type": "stream",
     "text": [
      "Found tracks having more than 4 instruments!\n",
      " Removing instruments\n"
     ]
    },
    {
     "name": "stderr",
     "output_type": "stream",
     "text": [
      "\n",
      "87it [31:08, 22.37s/it]\u001b[A"
     ]
    },
    {
     "name": "stdout",
     "output_type": "stream",
     "text": [
      "Found tracks having more than 4 instruments!\n",
      " Removing instruments\n"
     ]
    },
    {
     "name": "stderr",
     "output_type": "stream",
     "text": [
      "\n",
      "88it [31:44, 26.30s/it]\u001b[A"
     ]
    },
    {
     "name": "stdout",
     "output_type": "stream",
     "text": [
      "Found tracks having more than 4 instruments!\n",
      " Removing instruments\n"
     ]
    },
    {
     "name": "stderr",
     "output_type": "stream",
     "text": [
      "\n",
      "89it [32:31, 32.57s/it]\u001b[A\n",
      "90it [32:48, 27.91s/it]\u001b[A"
     ]
    },
    {
     "name": "stdout",
     "output_type": "stream",
     "text": [
      "Found tracks having more than 4 instruments!\n",
      " Removing instruments\n"
     ]
    },
    {
     "name": "stderr",
     "output_type": "stream",
     "text": [
      "\n",
      "91it [33:16, 27.91s/it]\u001b[A"
     ]
    },
    {
     "name": "stdout",
     "output_type": "stream",
     "text": [
      "Found tracks having more than 4 instruments!\n",
      " Removing instruments\n"
     ]
    },
    {
     "name": "stderr",
     "output_type": "stream",
     "text": [
      "\n",
      "92it [33:40, 26.81s/it]\u001b[A\n",
      "93it [33:53, 22.57s/it]\u001b[A"
     ]
    },
    {
     "name": "stdout",
     "output_type": "stream",
     "text": [
      "Found tracks having more than 4 instruments!\n",
      " Removing instruments\n"
     ]
    },
    {
     "name": "stderr",
     "output_type": "stream",
     "text": [
      "\n",
      "94it [33:57, 17.05s/it]\u001b[A"
     ]
    },
    {
     "name": "stdout",
     "output_type": "stream",
     "text": [
      "Found tracks having more than 4 instruments!\n",
      " Removing instruments\n",
      "Found tracks having more than 4 instruments!\n",
      " Removing instruments\n"
     ]
    },
    {
     "name": "stderr",
     "output_type": "stream",
     "text": [
      "\n",
      "95it [34:33, 22.65s/it]\u001b[A"
     ]
    },
    {
     "name": "stdout",
     "output_type": "stream",
     "text": [
      "Found tracks having more than 4 instruments!\n",
      " Removing instruments\n"
     ]
    },
    {
     "name": "stderr",
     "output_type": "stream",
     "text": [
      "\n",
      "96it [35:08, 26.40s/it]\u001b[A\n",
      "97it [35:17, 21.22s/it]\u001b[A"
     ]
    },
    {
     "name": "stdout",
     "output_type": "stream",
     "text": [
      "Found tracks having more than 4 instruments!\n",
      " Removing instruments\n",
      "Found tracks having more than 4 instruments!\n",
      " Removing instruments\n"
     ]
    },
    {
     "name": "stderr",
     "output_type": "stream",
     "text": [
      "\n",
      "98it [36:07, 29.67s/it]\u001b[A"
     ]
    },
    {
     "name": "stdout",
     "output_type": "stream",
     "text": [
      "Found tracks having more than 4 instruments!\n",
      " Removing instruments\n"
     ]
    },
    {
     "name": "stderr",
     "output_type": "stream",
     "text": [
      "\n",
      "99it [37:15, 41.26s/it]\u001b[A"
     ]
    },
    {
     "name": "stdout",
     "output_type": "stream",
     "text": [
      "Found tracks having more than 4 instruments!\n",
      " Removing instruments\n"
     ]
    },
    {
     "name": "stderr",
     "output_type": "stream",
     "text": [
      "\n",
      "100it [37:38, 35.95s/it]\u001b[A\n",
      "101it [37:47, 27.66s/it]\u001b[A"
     ]
    },
    {
     "name": "stdout",
     "output_type": "stream",
     "text": [
      "Found tracks having more than 4 instruments!\n",
      " Removing instruments\n"
     ]
    },
    {
     "name": "stderr",
     "output_type": "stream",
     "text": [
      "\n",
      "102it [37:58, 22.64s/it]\u001b[A"
     ]
    },
    {
     "name": "stdout",
     "output_type": "stream",
     "text": [
      "Found tracks having more than 4 instruments!\n",
      " Removing instruments\n",
      "Found tracks having more than 4 instruments!\n",
      " Removing instruments\n"
     ]
    },
    {
     "name": "stderr",
     "output_type": "stream",
     "text": [
      "\n",
      "103it [38:33, 26.42s/it]\u001b[A\n",
      "104it [38:38, 19.96s/it]\u001b[A\n",
      "105it [38:41, 14.92s/it]\u001b[A\n",
      "106it [38:45, 11.70s/it]\u001b[A\n",
      "107it [39:06, 14.32s/it]\u001b[A\n",
      "108it [39:12, 11.96s/it]\u001b[A\n",
      "109it [39:22, 11.48s/it]\u001b[A\n",
      "110it [39:26,  9.26s/it]\u001b[A\n",
      "111it [39:50, 13.46s/it]\u001b[A\n",
      "112it [40:01, 12.78s/it]\u001b[A\n",
      "113it [40:07, 10.77s/it]\u001b[A\n",
      "114it [40:11,  8.90s/it]\u001b[A\n",
      "115it [40:37, 13.98s/it]\u001b[A\n",
      "116it [41:11, 20.00s/it]\u001b[A\n",
      "117it [41:21, 16.85s/it]\u001b[A\n",
      "118it [41:23, 12.42s/it]\u001b[A\n",
      "119it [42:01, 19.97s/it]\u001b[A\n",
      "120it [42:05, 15.31s/it]\u001b[A\n",
      "121it [42:12, 12.75s/it]\u001b[A\n",
      "122it [42:18, 10.79s/it]\u001b[A\n",
      "123it [42:57, 19.18s/it]\u001b[A\n",
      "124it [43:03, 15.40s/it]\u001b[A\n",
      "125it [43:09, 12.44s/it]\u001b[A\n",
      "126it [43:12,  9.54s/it]\u001b[A\n",
      "127it [43:43, 16.00s/it]\u001b[A\n",
      "128it [44:13, 20.28s/it]\u001b[A\n",
      "129it [44:17, 15.37s/it]\u001b[A\n",
      "130it [44:35, 16.13s/it]\u001b[A\n",
      "131it [44:55, 17.22s/it]\u001b[A\n",
      "132it [45:01, 14.05s/it]\u001b[A\n",
      "133it [45:06, 11.27s/it]\u001b[A\n",
      "134it [45:08,  8.63s/it]\u001b[A\n",
      "135it [45:20,  9.38s/it]\u001b[A\n",
      "136it [45:29,  9.53s/it]\u001b[A\n",
      "137it [45:33,  7.76s/it]\u001b[A\n",
      "138it [45:37,  6.76s/it]\u001b[A\n",
      "139it [46:05, 13.03s/it]\u001b[A\n",
      "140it [46:15, 12.16s/it]\u001b[A\n",
      "141it [46:19,  9.77s/it]\u001b[A\n",
      "142it [46:24,  8.10s/it]\u001b[A\n",
      "143it [46:57, 15.66s/it]\u001b[A\n",
      "144it [47:04, 13.12s/it]\u001b[A\n",
      "145it [47:07,  9.97s/it]\u001b[A\n",
      "146it [47:10,  7.85s/it]\u001b[A\n",
      "147it [47:25, 10.00s/it]\u001b[A\n",
      "148it [47:32,  9.28s/it]\u001b[A\n",
      "149it [47:36,  7.58s/it]\u001b[A\n",
      "150it [47:37,  5.76s/it]\u001b[A\n",
      "151it [47:46,  6.71s/it]\u001b[A\n",
      "152it [48:03,  9.66s/it]\u001b[A\n",
      "153it [48:15, 10.37s/it]\u001b[A\n",
      "154it [48:19,  8.52s/it]\u001b[A\n",
      "155it [48:40, 12.12s/it]\u001b[A\n",
      "156it [49:27, 22.74s/it]\u001b[A\n",
      "157it [49:31, 17.19s/it]\u001b[A\n",
      "158it [49:36, 13.47s/it]\u001b[A\n",
      "159it [50:07, 18.75s/it]\u001b[A\n",
      "160it [50:28, 19.31s/it]\u001b[A\n",
      "161it [50:37, 16.20s/it]\u001b[A\n",
      "162it [50:44, 13.43s/it]\u001b[A\n",
      "163it [51:21, 20.61s/it]\u001b[A\n",
      "164it [51:25, 15.69s/it]\u001b[A\n",
      "165it [51:39, 15.08s/it]\u001b[A\n",
      "166it [51:44, 12.13s/it]\u001b[A\n",
      "167it [52:05, 14.57s/it]\u001b[A\n",
      "168it [52:23, 15.78s/it]\u001b[A\n",
      "169it [52:27, 12.29s/it]\u001b[A\n",
      "170it [52:33, 10.19s/it]\u001b[A\n",
      "171it [53:07, 17.37s/it]\u001b[A\n",
      "172it [53:24, 17.49s/it]\u001b[A\n",
      "173it [53:37, 16.11s/it]\u001b[A\n",
      "174it [53:42, 12.82s/it]\u001b[A\n",
      "175it [53:57, 13.23s/it]\u001b[A\n",
      "176it [54:23, 17.08s/it]\u001b[A\n",
      "177it [54:31, 14.34s/it]\u001b[A\n",
      "178it [54:39, 12.50s/it]\u001b[A\n",
      "179it [55:26, 22.96s/it]\u001b[A\n",
      "180it [55:39, 19.93s/it]\u001b[A\n",
      "181it [55:41, 14.50s/it]\u001b[A\n",
      "182it [55:48, 12.22s/it]\u001b[A\n",
      "183it [56:23, 18.97s/it]\u001b[A\n",
      "184it [56:48, 20.81s/it]\u001b[A\n",
      "185it [56:58, 17.74s/it]\u001b[A\n",
      "186it [57:05, 14.34s/it]\u001b[A\n",
      "187it [57:28, 17.05s/it]\u001b[A\n",
      "188it [57:35, 14.15s/it]\u001b[A\n",
      "189it [57:41, 11.68s/it]\u001b[A\n",
      "190it [57:46,  9.69s/it]\u001b[A\n",
      "191it [58:06, 12.56s/it]\u001b[A\n",
      "192it [58:29, 15.90s/it]\u001b[A\n",
      "193it [58:45, 15.77s/it]\u001b[A\n",
      "194it [58:50, 12.55s/it]\u001b[A\n",
      "195it [59:15, 16.21s/it]\u001b[A\n",
      "196it [59:26, 14.90s/it]\u001b[A\n",
      "197it [59:39, 14.31s/it]\u001b[A\n",
      "198it [59:45, 11.61s/it]\u001b[A\n",
      "199it [59:54, 10.77s/it]\u001b[A\n",
      "200it [1:00:02,  9.95s/it]\u001b[A\n",
      "201it [1:00:07,  8.50s/it]\u001b[A\n",
      "202it [1:00:17,  8.99s/it]\u001b[A\n",
      "203it [1:00:30, 10.23s/it]\u001b[A\n",
      "204it [1:00:43, 11.20s/it]\u001b[A\n",
      "205it [1:00:47,  8.99s/it]\u001b[A\n",
      "206it [1:00:53,  8.06s/it]\u001b[A"
     ]
    },
    {
     "name": "stdout",
     "output_type": "stream",
     "text": [
      "Found tracks having more than 4 instruments!\n",
      " Removing instruments\n"
     ]
    },
    {
     "name": "stderr",
     "output_type": "stream",
     "text": [
      "\n",
      "207it [1:01:18, 13.07s/it]\u001b[A\n",
      "208it [1:01:34, 14.09s/it]\u001b[A\n",
      "209it [1:01:40, 11.67s/it]\u001b[A\n",
      "210it [1:01:50, 11.12s/it]\u001b[A\n",
      "211it [1:02:16, 15.64s/it]\u001b[A\n",
      "212it [1:02:46, 19.78s/it]\u001b[A\n",
      "213it [1:02:54, 16.41s/it]\u001b[A"
     ]
    },
    {
     "name": "stdout",
     "output_type": "stream",
     "text": [
      "Found tracks having more than 4 instruments!\n",
      " Removing instruments\n"
     ]
    },
    {
     "name": "stderr",
     "output_type": "stream",
     "text": [
      "\n",
      "214it [1:02:59, 13.02s/it]\u001b[A\n",
      "215it [1:03:20, 15.20s/it]\u001b[A\n",
      "216it [1:03:30, 13.60s/it]\u001b[A\n",
      "217it [1:03:33, 10.51s/it]\u001b[A\n",
      "218it [1:03:39,  9.10s/it]\u001b[A\n",
      "219it [1:04:10, 15.72s/it]\u001b[A\n",
      "220it [1:04:27, 16.10s/it]\u001b[A\n",
      "221it [1:04:30, 12.28s/it]\u001b[A\n",
      "222it [1:04:35, 10.06s/it]\u001b[A\n",
      "223it [1:04:52, 12.23s/it]\u001b[A\n",
      "224it [1:05:34, 21.10s/it]\u001b[A\n",
      "225it [1:05:38, 15.90s/it]\u001b[A\n",
      "226it [1:05:45, 13.15s/it]\u001b[A\n",
      "227it [1:06:26, 21.53s/it]\u001b[A\n",
      "228it [1:06:35, 17.75s/it]\u001b[A\n",
      "229it [1:06:39, 13.78s/it]\u001b[A\n",
      "230it [1:06:43, 10.72s/it]\u001b[A\n",
      "231it [1:07:03, 13.54s/it]\u001b[A\n",
      "232it [1:07:13, 12.45s/it]\u001b[A\n",
      "233it [1:07:22, 11.43s/it]\u001b[A\n",
      "234it [1:07:28,  9.93s/it]\u001b[A\n",
      "235it [1:08:34, 26.68s/it]\u001b[A\n",
      "236it [1:09:24, 33.70s/it]\u001b[A\n",
      "237it [1:09:42, 29.05s/it]\u001b[A\n",
      "238it [1:09:52, 23.06s/it]\u001b[A\n",
      "239it [1:10:34, 29.04s/it]\u001b[A\n",
      "240it [1:10:49, 24.61s/it]\u001b[A\n",
      "241it [1:11:06, 22.44s/it]\u001b[A\n",
      "242it [1:11:11, 17.14s/it]\u001b[A"
     ]
    },
    {
     "name": "stdout",
     "output_type": "stream",
     "text": [
      "Found tracks having more than 4 instruments!\n",
      " Removing instruments\n"
     ]
    },
    {
     "name": "stderr",
     "output_type": "stream",
     "text": [
      "\n",
      "243it [1:12:35, 37.33s/it]\u001b[A\n",
      "244it [1:12:56, 32.39s/it]\u001b[A\n",
      "245it [1:13:00, 23.92s/it]\u001b[A\n",
      "246it [1:13:07, 18.68s/it]\u001b[A"
     ]
    },
    {
     "name": "stdout",
     "output_type": "stream",
     "text": [
      "Found tracks having more than 4 instruments!\n",
      " Removing instruments\n"
     ]
    },
    {
     "name": "stderr",
     "output_type": "stream",
     "text": [
      "\n",
      "247it [1:13:37, 22.12s/it]\u001b[A"
     ]
    },
    {
     "name": "stdout",
     "output_type": "stream",
     "text": [
      "Found tracks having more than 4 instruments!\n",
      " Removing instruments\n"
     ]
    },
    {
     "name": "stderr",
     "output_type": "stream",
     "text": [
      "\n",
      "248it [1:14:14, 26.60s/it]\u001b[A\n",
      "249it [1:14:22, 21.02s/it]\u001b[A\n",
      "250it [1:14:28, 16.52s/it]\u001b[A\n",
      "251it [1:15:11, 24.42s/it]\u001b[A\n",
      "252it [1:15:20, 19.83s/it]\u001b[A\n",
      "253it [1:15:28, 16.18s/it]\u001b[A"
     ]
    },
    {
     "name": "stdout",
     "output_type": "stream",
     "text": [
      "Found tracks having more than 4 instruments!\n",
      " Removing instruments\n"
     ]
    },
    {
     "name": "stderr",
     "output_type": "stream",
     "text": [
      "\n",
      "254it [1:15:37, 14.25s/it]\u001b[A\n",
      "255it [1:16:11, 20.11s/it]\u001b[A\n",
      "256it [1:16:32, 20.20s/it]\u001b[A\n",
      "257it [1:16:36, 15.42s/it]\u001b[A\n",
      "258it [1:16:41, 12.31s/it]\u001b[A\n",
      "259it [1:17:30, 23.22s/it]\u001b[A\n",
      "260it [1:17:46, 21.12s/it]\u001b[A\n",
      "261it [1:17:49, 15.59s/it]\u001b[A"
     ]
    },
    {
     "name": "stdout",
     "output_type": "stream",
     "text": [
      "Found tracks having more than 4 instruments!\n",
      " Removing instruments\n"
     ]
    },
    {
     "name": "stderr",
     "output_type": "stream",
     "text": [
      "\n",
      "262it [1:17:55, 12.93s/it]\u001b[A\n",
      "263it [1:18:20, 16.61s/it]\u001b[A\n",
      "264it [1:18:36, 16.43s/it]\u001b[A\n",
      "265it [1:18:40, 12.53s/it]\u001b[A\n",
      "266it [1:18:45, 10.33s/it]\u001b[A\n",
      "267it [1:18:56, 10.38s/it]\u001b[A\n",
      "268it [1:19:28, 16.88s/it]\u001b[A\n",
      "269it [1:19:31, 12.80s/it]\u001b[A\n",
      "270it [1:19:40, 11.82s/it]\u001b[A\n",
      "271it [1:19:54, 12.25s/it]\u001b[A\n",
      "272it [1:20:12, 14.07s/it]\u001b[A\n",
      "273it [1:20:18, 11.68s/it]\u001b[A\n",
      "274it [1:20:35, 13.24s/it]\u001b[A\n",
      "275it [1:20:58, 16.17s/it]\u001b[A\n",
      "276it [1:21:23, 18.95s/it]\u001b[A\n",
      "277it [1:21:35, 16.78s/it]\u001b[A\n",
      "278it [1:21:47, 15.31s/it]\u001b[A\n",
      "279it [1:22:15, 19.08s/it]\u001b[A\n",
      "280it [1:22:42, 21.43s/it]\u001b[A\n",
      "281it [1:22:56, 19.40s/it]\u001b[A\n",
      "282it [1:23:04, 15.87s/it]\u001b[A\n",
      "283it [1:23:44, 23.02s/it]\u001b[A\n",
      "284it [1:24:06, 22.90s/it]\u001b[A\n",
      "285it [1:24:12, 17.66s/it]\u001b[A\n",
      "286it [1:24:17, 13.88s/it]\u001b[A"
     ]
    },
    {
     "name": "stdout",
     "output_type": "stream",
     "text": [
      "Found tracks having more than 4 instruments!\n",
      " Removing instruments\n"
     ]
    },
    {
     "name": "stderr",
     "output_type": "stream",
     "text": [
      "\n",
      "287it [1:24:57, 21.71s/it]\u001b[A\n",
      "288it [1:25:15, 20.58s/it]\u001b[A\n",
      "289it [1:25:24, 17.01s/it]\u001b[A\n",
      "290it [1:25:37, 15.97s/it]\u001b[A\n",
      "291it [1:26:04, 19.13s/it]\u001b[A\n",
      "292it [1:26:40, 24.46s/it]\u001b[A\n",
      "293it [1:26:46, 18.64s/it]\u001b[A\n",
      "294it [1:26:54, 15.54s/it]\u001b[A\n",
      "295it [1:27:45, 26.23s/it]\u001b[A\n",
      "296it [1:28:13, 26.90s/it]\u001b[A"
     ]
    },
    {
     "name": "stdout",
     "output_type": "stream",
     "text": [
      "Error occured while reading file\n",
      " Deleting file\n"
     ]
    },
    {
     "name": "stderr",
     "output_type": "stream",
     "text": [
      "\n",
      "298it [1:28:47, 23.93s/it]\u001b[A\n",
      "299it [1:29:15, 24.98s/it]\u001b[A\n",
      "300it [1:30:22, 37.62s/it]\u001b[A\n",
      "301it [1:30:29, 28.41s/it]\u001b[A\n",
      "302it [1:30:39, 22.92s/it]\u001b[A\n",
      "303it [1:31:45, 35.79s/it]\u001b[A\n",
      "304it [1:32:37, 40.62s/it]\u001b[A\n",
      "305it [1:32:44, 30.67s/it]\u001b[A\n",
      "306it [1:32:53, 24.10s/it]\u001b[A\n",
      "307it [1:33:42, 31.49s/it]\u001b[A\n",
      "308it [1:34:00, 27.38s/it]\u001b[A\n",
      "309it [1:34:03, 20.17s/it]\u001b[A\n",
      "310it [1:34:13, 17.10s/it]\u001b[A\n",
      "311it [1:34:31, 17.40s/it]\u001b[A\n",
      "312it [1:34:54, 18.99s/it]\u001b[A\n",
      "313it [1:34:59, 14.89s/it]\u001b[A\n",
      "314it [1:35:14, 15.05s/it]\u001b[A\n",
      "315it [1:35:35, 16.60s/it]\u001b[A\n",
      "316it [1:36:48, 33.52s/it]\u001b[A\n",
      "317it [1:37:03, 28.04s/it]\u001b[A\n",
      "318it [1:37:10, 21.88s/it]\u001b[A\n",
      "319it [1:37:54, 28.39s/it]\u001b[A"
     ]
    },
    {
     "name": "stdout",
     "output_type": "stream",
     "text": [
      "Found tracks having more than 4 instruments!\n",
      " Removing instruments\n"
     ]
    },
    {
     "name": "stderr",
     "output_type": "stream",
     "text": [
      "\n",
      "320it [1:38:34, 31.82s/it]\u001b[A\n",
      "321it [1:38:39, 23.94s/it]\u001b[A\n",
      "322it [1:38:42, 17.68s/it]\u001b[A"
     ]
    },
    {
     "name": "stdout",
     "output_type": "stream",
     "text": [
      "Found tracks having more than 4 instruments!\n",
      " Removing instruments\n",
      "Found tracks having more than 4 instruments!\n",
      " Removing instruments\n"
     ]
    },
    {
     "name": "stderr",
     "output_type": "stream",
     "text": [
      "\n",
      "323it [1:39:09, 20.28s/it]\u001b[A\n",
      "324it [1:39:40, 23.53s/it]\u001b[A\n",
      "325it [1:39:48, 18.92s/it]\u001b[A\n",
      "326it [1:40:00, 16.82s/it]\u001b[A\n",
      "327it [1:40:29, 20.45s/it]\u001b[A"
     ]
    },
    {
     "name": "stdout",
     "output_type": "stream",
     "text": [
      "Found tracks having more than 4 instruments!\n",
      " Removing instruments\n"
     ]
    },
    {
     "name": "stderr",
     "output_type": "stream",
     "text": [
      "\n",
      "328it [1:41:05, 25.25s/it]\u001b[A\n",
      "329it [1:41:27, 24.25s/it]\u001b[A"
     ]
    },
    {
     "name": "stdout",
     "output_type": "stream",
     "text": [
      "Found tracks having more than 4 instruments!\n",
      " Removing instruments\n"
     ]
    },
    {
     "name": "stderr",
     "output_type": "stream",
     "text": [
      "\n",
      "330it [1:41:37, 19.80s/it]\u001b[A\n",
      "331it [1:41:46, 16.77s/it]\u001b[A\n",
      "332it [1:42:36, 26.59s/it]\u001b[A\n",
      "333it [1:43:37, 37.01s/it]\u001b[A"
     ]
    },
    {
     "name": "stdout",
     "output_type": "stream",
     "text": [
      "Found tracks having more than 4 instruments!\n",
      " Removing instruments\n"
     ]
    },
    {
     "name": "stderr",
     "output_type": "stream",
     "text": [
      "\n",
      "334it [1:44:40, 44.69s/it]\u001b[A\n",
      "335it [1:44:49, 33.99s/it]\u001b[A\n",
      "336it [1:46:34, 55.43s/it]\u001b[A"
     ]
    },
    {
     "name": "stdout",
     "output_type": "stream",
     "text": [
      "Found tracks having more than 4 instruments!\n",
      " Removing instruments\n"
     ]
    },
    {
     "name": "stderr",
     "output_type": "stream",
     "text": [
      "\n",
      "337it [1:48:37, 75.61s/it]\u001b[A"
     ]
    },
    {
     "name": "stdout",
     "output_type": "stream",
     "text": [
      "Found tracks having more than 4 instruments!\n",
      " Removing instruments\n"
     ]
    },
    {
     "name": "stderr",
     "output_type": "stream",
     "text": [
      "\n",
      "338it [1:49:39, 71.66s/it]\u001b[A\n",
      "339it [1:50:18, 61.86s/it]\u001b[A"
     ]
    },
    {
     "name": "stdout",
     "output_type": "stream",
     "text": [
      "Found tracks having more than 4 instruments!\n",
      " Removing instruments\n"
     ]
    },
    {
     "name": "stderr",
     "output_type": "stream",
     "text": [
      "\n",
      "340it [1:54:30, 118.68s/it]\u001b[A"
     ]
    },
    {
     "name": "stdout",
     "output_type": "stream",
     "text": [
      "Found tracks having more than 4 instruments!\n",
      " Removing instruments\n"
     ]
    },
    {
     "name": "stderr",
     "output_type": "stream",
     "text": [
      "\n",
      "341it [1:55:00, 92.25s/it] \u001b[A\n",
      "342it [1:55:05, 65.95s/it]\u001b[A"
     ]
    },
    {
     "name": "stdout",
     "output_type": "stream",
     "text": [
      "Found tracks having more than 4 instruments!\n",
      " Removing instruments\n"
     ]
    },
    {
     "name": "stderr",
     "output_type": "stream",
     "text": [
      "\n",
      "343it [1:55:09, 47.57s/it]\u001b[A\n",
      "344it [1:55:14, 34.54s/it]\u001b[A"
     ]
    },
    {
     "name": "stdout",
     "output_type": "stream",
     "text": [
      "Found tracks having more than 4 instruments!\n",
      " Removing instruments\n",
      "Found tracks having more than 4 instruments!\n",
      " Removing instruments\n"
     ]
    },
    {
     "name": "stderr",
     "output_type": "stream",
     "text": [
      "\n",
      "345it [1:55:28, 28.59s/it]\u001b[A\n",
      "346it [1:55:50, 26.50s/it]\u001b[A\n",
      "347it [1:56:00, 21.65s/it]\u001b[A"
     ]
    },
    {
     "name": "stdout",
     "output_type": "stream",
     "text": [
      "Found tracks having more than 4 instruments!\n",
      " Removing instruments\n"
     ]
    },
    {
     "name": "stderr",
     "output_type": "stream",
     "text": [
      "\n",
      "348it [1:56:08, 17.46s/it]\u001b[A"
     ]
    },
    {
     "name": "stdout",
     "output_type": "stream",
     "text": [
      "Found tracks having more than 4 instruments!\n",
      " Removing instruments\n",
      "Found tracks having more than 4 instruments!\n",
      " Removing instruments\n"
     ]
    },
    {
     "name": "stderr",
     "output_type": "stream",
     "text": [
      "\n",
      "349it [1:56:18, 15.38s/it]\u001b[A\n",
      "350it [1:56:58, 22.51s/it]\u001b[A\n",
      "351it [1:57:13, 20.46s/it]\u001b[A\n",
      "352it [1:57:21, 16.53s/it]\u001b[A"
     ]
    },
    {
     "name": "stdout",
     "output_type": "stream",
     "text": [
      "Found tracks having more than 4 instruments!\n",
      " Removing instruments\n",
      "Found tracks having more than 4 instruments!\n",
      " Removing instruments\n"
     ]
    },
    {
     "name": "stderr",
     "output_type": "stream",
     "text": [
      "\n",
      "353it [1:57:30, 14.48s/it]\u001b[A\n",
      "\u001b[A"
     ]
    }
   ],
   "source": [
    "import converters.convert as cvt\n",
    "from mido import MidiFile, MidiTrack, Message as MidiMessage\n",
    "import music21\n",
    "import tqdm\n",
    "\n",
    "print('Total files found: ', len(glob.glob('/content/gdrive/My Drive/raw_data/*.mid')))\n",
    "\n",
    "for file in tqdm.tqdm(glob.iglob('/content/gdrive/My Drive/raw_data/*.mid')):\n",
    "    try:\n",
    "      transpose_key(file)\n",
    "    except:\n",
    "      print('Error occured while reading file\\n Deleting file')\n",
    "      os.remove(file)\n",
    "      continue\n",
    "    \n",
    "    mid = MidiFile('/tmp/temp.mid')\n",
    "    tpb = mid.ticks_per_beat\n",
    "    metamessages, insmessages = cvt.split_tracks(mid)  # Make sure that only 4 instruments are passed forward\n",
    "    streams = cvt.notes_to_pitchstream(insmessages, tpb)\n",
    "    cvt.pitch_stream_to_text(streams, file_name='/content/gdrive/My Drive/corpus.txt')\n",
    "    os.remove(file)\n",
    "\n"
   ]
  },
  {
   "cell_type": "code",
   "execution_count": 0,
   "metadata": {
    "colab": {},
    "colab_type": "code",
    "id": "4VhdkOvhnsNo"
   },
   "outputs": [],
   "source": [
    "!rm -rf /content/gdrive/My Drive/raw_data"
   ]
  },
  {
   "cell_type": "code",
   "execution_count": 0,
   "metadata": {
    "colab": {},
    "colab_type": "code",
    "id": "xLfw0jCl3u-y"
   },
   "outputs": [],
   "source": [
    "stream = cvt.text_to_pitch_stream(file_name='')\n",
    "mid = cvt.pitchstream_to_midi(stream)\n",
    "mid.save('txt.mid')"
   ]
  }
 ],
 "metadata": {
  "colab": {
   "collapsed_sections": [],
   "name": "DataConversion.ipynb",
   "provenance": []
  },
  "kernelspec": {
   "display_name": "Python 3",
   "language": "python",
   "name": "python3"
  },
  "language_info": {
   "codemirror_mode": {
    "name": "ipython",
    "version": 3
   },
   "file_extension": ".py",
   "mimetype": "text/x-python",
   "name": "python",
   "nbconvert_exporter": "python",
   "pygments_lexer": "ipython3",
   "version": "3.7.5"
  }
 },
 "nbformat": 4,
 "nbformat_minor": 1
}
